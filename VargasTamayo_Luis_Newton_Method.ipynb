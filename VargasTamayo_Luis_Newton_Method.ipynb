{
 "cells": [
  {
   "cell_type": "markdown",
   "metadata": {},
   "source": [
    "__Warmup__\n",
    "\n",
    "Use Newton's method to estimate a root of cos x. Initial guess is 2.\n",
    "\n",
    "Newton's method equation is:\n",
    "$$x_{i+1}=x_i - \\frac{f(x_i)}{f'(x_i)}$$\n",
    "\n",
    "Relative error equation is\n",
    "$$\\left|\\epsilon_a\\right|=\\left|\\frac{x_{i+1}-x_i}{x_{i+1}}\\right|\\times 100$$\n",
    "\n",
    "* Set the max number of iterations  for the method at 20\n",
    "* Set a minimum denominator of `1E-20`\n",
    "* Set a  tolerance of `5E-8` for the relative approximate error\n",
    "\n",
    "[Click here for Video link](https://youtu.be/n3SnbAtVYR4). Note ERRORS in video:\n",
    "\n",
    " - Newton's formula is:  x_{i+1} = x_i  MINUS f(x_i)/f'(x_i).  The code is right, the description is wrong.\n",
    " - The approximate relative error should be in percent, so the formula in line 47 should be:\n",
    "approxRelError[i+1]=abs(approxError[i+1]/xiPlus1)*100"
   ]
  },
  {
   "cell_type": "code",
   "execution_count": 9,
   "metadata": {},
   "outputs": [
    {
     "name": "stdout",
     "output_type": "stream",
     "text": [
      "Root at: 1.5707963267948966 with tolerance 5e-08\n"
     ]
    },
    {
     "data": {
      "image/png": "[encoded data removed]",
      "text/plain": [
       "<Figure size 432x288 with 1 Axes>"
      ]
     },
     "metadata": {
      "needs_background": "light"
     },
     "output_type": "display_data"
    }
   ],
   "source": [
    "# Imports\n",
    "%matplotlib inline\n",
    "import numpy as np\n",
    "import matplotlib.pyplot as plt\n",
    "\n",
    "### INITIALIZATION ##########\n",
    "\n",
    "# Function that you are using\n",
    "def f(x):\n",
    "    return np.cos(x)\n",
    "\n",
    "# Derivative of function\n",
    "def df(x):\n",
    "    return -np.sin(x)\n",
    "\n",
    "# Initial guess\n",
    "x0 = 2\n",
    "\n",
    "# Actual Root\n",
    "actual = np.pi/2\n",
    "\n",
    "# Max number of iterations that you would like to use\n",
    "maxIt = 20\n",
    "\n",
    "# MinDivisor allows to not divide by too small if so we need to break\n",
    "minDivisor = 1.0E-20\n",
    "\n",
    "# tolerance level can set for desired significance digits\n",
    "# If approxRelError (in Percent) is less than tolerance, break.\n",
    "tolerance = 5.0E-8\n",
    "\n",
    "# Arrays to store data for each iteration (to plot at end)\n",
    "approxError = np.zeros(maxIt)\n",
    "actualError = np.zeros(maxIt)\n",
    "approxRelError = np.zeros(maxIt)\n",
    "actualRelError = np.zeros(maxIt)\n",
    "\n",
    "### CALCULATION ##########\n",
    "\n",
    "# Set initial 'x' as first value in iteration\n",
    "xi = x0\n",
    "\n",
    "# Loop: iteratie to max number\n",
    "for i in range(maxIt):\n",
    "\n",
    "    # Caluclate actual and relative error\n",
    "    actualError[i] = np.abs(actual-xi)\n",
    "    actualRelError[i] = np.abs(actualError[i]/actual) * 100\n",
    "        \n",
    "    # Ensure denominator isn't too small -- cause convergence problems\n",
    "    fprime = df(xi)\n",
    "    \n",
    "    if(np.abs(fprime) < minDivisor):\n",
    "        print('Deriv. too small: root probably has multiplicity >1')\n",
    "        break\n",
    "    \n",
    "    # Update root estimate\n",
    "    xiPlus1 = xi - f(xi)/fprime\n",
    "    \n",
    "    # Calculate approx error and relative error\n",
    "    approxError[i+1] = np.abs(xiPlus1 - xi)\n",
    "    approxRelError[i+1] = np.abs(approxError[i+1]/xiPlus1)*100\n",
    "    \n",
    "    # If close enough then stop\n",
    "    if approxRelError[i+1] <= tolerance:\n",
    "        break;\n",
    "    \n",
    "    # Update xi\n",
    "    xi = xiPlus1\n",
    "        \n",
    "        \n",
    "### PRESENTATION ##########\n",
    "\n",
    "# Print root\n",
    "print(\"Root at: {} with tolerance {}\".format(xi,tolerance))\n",
    "\n",
    "plt.figure(1)\n",
    "plt.plot(np.arange(1,i+1),approxRelError[1:i+1],label=\"Approx. Rel. Error\")\n",
    "plt.plot(np.arange(i+1),actualRelError[:i+1],label=\"Actual. Rel. Error\")\n",
    "\n",
    "# Annotate the plot\n",
    "# Change y scale to logarithmic\n",
    "plt.yscale('log')\n",
    "\n",
    "# Add labels to axes\n",
    "plt.xlabel('Iteration number')\n",
    "plt.ylabel('Relative Errors')\n",
    "plt.legend(loc=3)\n",
    "plt.title(\"Approx. and Actual Relative Error \\nfor Newton's Method\")\n",
    "\n",
    "\n",
    "plt.show()\n"
   ]
  },
  {
   "cell_type": "markdown",
   "metadata": {},
   "source": [
    "1.a.\t(Answer this part on a sheet of paper – scan and submit the scan as an attachment on Canvas.)  Use your code to estimate a root of $f(x) =x^3 - x$, starting with the initial guess $x_0=\\frac{1}{\\sqrt{5}}$.  What happens? Create a diagram (you can do on paper, or write a code) similar to this [figure](http://fourier.eng.hmc.edu/e176/lectures/figures/NewtonRaphson.png) to explain what’s happening. (You may start with $n=0$, and go up to $n=3$.)  \n",
    "\n",
    "1.b. What happens to Newton’s method when the initial guess is slightly smaller than $\\frac{1}{\\sqrt{5}}$? Show the resulting $x_0,  x_{1} , x_{2}m x_3$ on your diagram from 1a.) \n",
    "\n",
    "1.c. When the initial guess is larger than $\\frac{1}{\\sqrt{5}}$, does the process always converge to the same value? Try a few different values, and show $x_0, x_{1} , x_{2}, x_3$ for two different cases. (I recommend you use different colors for the different $x_0$’s).   \n",
    "\n",
    "1.d. What do these results tell you in general about the choice of initial guesses for Newton’s method? \n"
   ]
  },
  {
   "cell_type": "code",
   "execution_count": null,
   "metadata": {},
   "outputs": [],
   "source": []
  },
  {
   "cell_type": "markdown",
   "metadata": {},
   "source": [
    "2.a. The Newton's method formula $x_{i+1}=x_i - \\frac{f(x_i)}{f'(x_i)}$ can be written in the form:\n",
    "$x_{i+1} = g(x_i).$\n",
    "Write the function $g(x)$ in terms of $f(x)$ and express its derivative $g'(x)$ and second derivative $g''(x)$ in terms of the derivatives of $f(x)$.\n",
    "\n",
    "2.b. Suppose that $r$ is a root of the function $f(x)$, so that $f(r)$ = 0.   Recall that the Taylor series expansion for $f(x)$ with expansion point $r$ has the form: $g(x) = g(r) + c_1(x-r) + c_2 (x-r)^2 + O((x-r)^3)$, where the '$O$' term  means that the approximation error when using the first 3 terms of this series is roughly proportional to $(x-r)^3$.   Find the coefficients $c_1$ and $c_2$ in terms of $f'(r)$ and $f''(r)$. \n",
    "\n",
    "2.c. Given $f$ and $r$ as in (3), and let $f'(r) = a$ and $f''(r)=b$. Suppose also that $|x_i - r | < \\frac{|a|}{|b|}$.  Show that $|g(x_i) - r| < \\frac{1}{2}|x_i - r | + O((x_i-r)^3)$.    \n",
    "\n",
    "2.d. Assuming that the $O((x_i-r)^3)$ term in the previous inequality is negligible, show that if the function $f$ and point $x_i$ satisfy the conditions in (3) and (4) above then the sequence $x_i, x_{i+1}, x_{i+2}, ...$ converges to the root $r$. \n",
    "\n",
    "2.e. Given $f,r,x_i$ as in (3,4,5) Let $\\epsilon_j$ be the absolute true error for $x_j$, i.e. $\\epsilon_j = |x_j-r|$. Assuming that the $O((x-r)^3)$ term is very small, show that $\\epsilon_{j+1} \\approx k\\epsilon_{j}^2$ for some constant $k$, and find the value of $k$. (The '$\\approx$' symbol means \"approximately equal to\")\n",
    "\n",
    "2.f. Explain why the error curves produced by the code in the video are NOT straight lines.\n",
    "\n"
   ]
  }
 ],
 "metadata": {
  "kernelspec": {
   "display_name": "Python 3",
   "language": "python",
   "name": "python3"
  },
  "language_info": {
   "codemirror_mode": {
    "name": "ipython",
    "version": 3
   },
   "file_extension": ".py",
   "mimetype": "text/x-python",
   "name": "python",
   "nbconvert_exporter": "python",
   "pygments_lexer": "ipython3",
   "version": "3.7.3"
  }
 },
 "nbformat": 4,
 "nbformat_minor": 2
}
