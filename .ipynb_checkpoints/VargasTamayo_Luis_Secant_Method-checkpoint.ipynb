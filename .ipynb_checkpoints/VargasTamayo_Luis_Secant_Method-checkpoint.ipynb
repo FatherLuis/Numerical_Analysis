{
 "cells": [
  {
   "cell_type": "markdown",
   "metadata": {},
   "source": [
    "Please complete the following code to implement the secant method. Write the code to estimate a root of the function $f(x) = \\cos(x)$ with initial guesses `x[0]=2.5` and `x[1]=2`, with a tolerance of $10^{-10}$, and maximum number of iterations equal to 32. "
   ]
  },
  {
   "cell_type": "code",
   "execution_count": 43,
   "metadata": {},
   "outputs": [
    {
     "name": "stdout",
     "output_type": "stream",
     "text": [
      "6\n",
      "Est. Root: 1.5707963267948966\n"
     ]
    },
    {
     "name": "stderr",
     "output_type": "stream",
     "text": [
      "C:\\Users\\fathe\\Anaconda3\\lib\\site-packages\\ipykernel_launcher.py:74: RuntimeWarning: divide by zero encountered in log\n",
      "C:\\Users\\fathe\\Anaconda3\\lib\\site-packages\\ipykernel_launcher.py:74: RuntimeWarning: invalid value encountered in log\n",
      "C:\\Users\\fathe\\Anaconda3\\lib\\site-packages\\ipykernel_launcher.py:75: RuntimeWarning: divide by zero encountered in log\n"
     ]
    },
    {
     "data": {
      "text/plain": [
       "<matplotlib.legend.Legend at 0x1be20799088>"
      ]
     },
     "execution_count": 43,
     "metadata": {},
     "output_type": "execute_result"
    },
    {
     "data": {
      "image/png": "[encoded data removed]",
      "text/plain": [
       "<Figure size 432x288 with 1 Axes>"
      ]
     },
     "metadata": {
      "needs_background": "light"
     },
     "output_type": "display_data"
    }
   ],
   "source": [
    "#import necesssary packages\n",
    "%matplotlib inline\n",
    "import numpy as np\n",
    "import matplotlib.pyplot as plt\n",
    "\n",
    "# define function that you're finding the root of\n",
    "def f(x):\n",
    "    return np.cos(x)\n",
    "# Actual root of function\n",
    "act_root = np.pi/2\n",
    "##initialization\n",
    "#2 initial guesses\n",
    "guess1 = 2.5\n",
    "guess2 = 2.0\n",
    "x = np.array([guess1,guess2]) # [previous,current]\n",
    "#max number of iterations\n",
    "iteration = 32\n",
    "#tolerance\n",
    "tolerance = 10 ** -10\n",
    "#Array to hold solutions (initialize with zeros)\n",
    "solution = np.zeros(iteration)\n",
    "\n",
    "# first two entries of the array consists of the two initial guesses\n",
    "solution[0] = x[0]\n",
    "solution[1] = x[1]\n",
    "#Arrays to hold approx and actual errors (initialize with zeros)\n",
    "approx_err = np.zeros(iteration)\n",
    "actual_err = np.zeros(iteration)\n",
    "\n",
    "##computation\n",
    "# Iterative estimates: two estimates are complete, iterate up to maximum # of iterations\n",
    "\n",
    "temp = 0\n",
    "est_root_index = 0\n",
    "\n",
    "approx_err[0] = 0\n",
    "approx_err[1] = solution[1] - solution[0]\n",
    "\n",
    "for i in range(2,iteration):\n",
    "    \n",
    "    if(i < 2):\n",
    "        actual_err[i] = solution[i] - act_root\n",
    "        #actual_err =\n",
    "    else:\n",
    "        #Compute approximate derivative from secant formula\n",
    "        # Obtain next root guess   \n",
    "        temp = x[1]\n",
    "\n",
    "        x[1] = x[1] - (f(x[1])*(x[1]-x[0]))/(f(x[1]) - f(x[0]))\n",
    "        solution[i] = x[1]\n",
    "\n",
    "        x[0] = temp\n",
    "\n",
    "        # Obtain approximate and actual errors\n",
    "        actual_err[i] = np.abs(solution[i] - act_root)\n",
    "        approx_err[i] = np.abs(solution[i] - solution[i-1])\n",
    "     \n",
    "\n",
    "        \n",
    "        \n",
    "    est_root_index = i\n",
    "    # break from loop if tolerance (based on approx error) is reached\n",
    "    if(tolerance > approx_err[i]):\n",
    "        break\n",
    "    \n",
    "    \n",
    "#print(solution)\n",
    "#print(approx_err)\n",
    "print(est_root_index)\n",
    "##output final root estimate\n",
    "print('Est. Root: {}'.format(solution[est_root_index]))\n",
    "\n",
    "# Plot the logarithm of the actual and approximate errors\n",
    "plt.plot(range(iteration),np.log(approx_err),label ='approx_err')\n",
    "plt.plot(range(iteration),np.log(actual_err),label=\"actual_err\")\n",
    "# Add labels and titles to the plots\n",
    "plt.xlabel('Iterations')\n",
    "plt.legend()\n"
   ]
  },
  {
   "cell_type": "markdown",
   "metadata": {},
   "source": [
    "Create a new cell  as a duplicate of the first. Modify the code to recreate Table 1 in the text,  (link is [here](http://mathforcollege.com/nm/mws/gen/03nle/mws_gen_nle_txt_secant.pdf)).  Add a column for the absolute relative approximate error $|\\epsilon_a|$, and give log-log plots of  $|\\epsilon_a|$ as a function of iteration number."
   ]
  },
  {
   "cell_type": "code",
   "execution_count": 49,
   "metadata": {},
   "outputs": [
    {
     "name": "stdout",
     "output_type": "stream",
     "text": [
      "6\n",
      "Est. Root: 1.5707963267948966\n",
      "+-----------+--------------------+--------------------+--------------------+-----------------------+----------+\n",
      "| Iteration |       $x_-1$       |       $x_0$        |       $x_1$        |         $E_a$%        | $f(x_1)$ |\n",
      "+-----------+--------------------+--------------------+--------------------+-----------------------+----------+\n",
      "|    2.0    |        2.5         |        2.0         | 1.459545041352972  |   37.02900173235051   |   0.0    |\n",
      "|    3.0    |        2.0         | 1.459545041352972  | 1.5733650541036255 |   7.234176992414438   |   0.0    |\n",
      "|    4.0    | 1.459545041352972  | 1.5733650541036255 | 1.5707911431083164 |  0.16386080393958763  |   0.0    |\n",
      "|    5.0    | 1.5733650541036255 | 1.5707911431083164 | 1.5707963268005858 | 0.0003300040992574997 |   0.0    |\n",
      "+-----------+--------------------+--------------------+--------------------+-----------------------+----------+\n"
     ]
    },
    {
     "name": "stderr",
     "output_type": "stream",
     "text": [
      "C:\\Users\\fathe\\Anaconda3\\lib\\site-packages\\ipykernel_launcher.py:95: RuntimeWarning: divide by zero encountered in log\n",
      "C:\\Users\\fathe\\Anaconda3\\lib\\site-packages\\ipykernel_launcher.py:95: RuntimeWarning: invalid value encountered in log\n",
      "C:\\Users\\fathe\\Anaconda3\\lib\\site-packages\\ipykernel_launcher.py:96: RuntimeWarning: divide by zero encountered in log\n"
     ]
    },
    {
     "ename": "AttributeError",
     "evalue": "addcolumn",
     "output_type": "error",
     "traceback": [
      "\u001b[1;31m---------------------------------------------------------------------------\u001b[0m",
      "\u001b[1;31mAttributeError\u001b[0m                            Traceback (most recent call last)",
      "\u001b[1;32m<ipython-input-49-7dc2c53f681a>\u001b[0m in \u001b[0;36m<module>\u001b[1;34m\u001b[0m\n\u001b[0;32m    121\u001b[0m \u001b[1;33m\u001b[0m\u001b[0m\n\u001b[0;32m    122\u001b[0m \u001b[1;33m\u001b[0m\u001b[0m\n\u001b[1;32m--> 123\u001b[1;33m \u001b[0mPT\u001b[0m\u001b[1;33m.\u001b[0m\u001b[0maddcolumn\u001b[0m\u001b[1;33m(\u001b[0m\u001b[1;33m)\u001b[0m\u001b[1;33m\u001b[0m\u001b[1;33m\u001b[0m\u001b[0m\n\u001b[0m",
      "\u001b[1;32m~\\Anaconda3\\lib\\site-packages\\prettytable.py\u001b[0m in \u001b[0;36m__getattr__\u001b[1;34m(self, name)\u001b[0m\n\u001b[0;32m    215\u001b[0m                 \u001b[1;32mreturn\u001b[0m \u001b[1;36m0\u001b[0m\u001b[1;33m\u001b[0m\u001b[1;33m\u001b[0m\u001b[0m\n\u001b[0;32m    216\u001b[0m         \u001b[1;32melse\u001b[0m\u001b[1;33m:\u001b[0m\u001b[1;33m\u001b[0m\u001b[1;33m\u001b[0m\u001b[0m\n\u001b[1;32m--> 217\u001b[1;33m             \u001b[1;32mraise\u001b[0m \u001b[0mAttributeError\u001b[0m\u001b[1;33m(\u001b[0m\u001b[0mname\u001b[0m\u001b[1;33m)\u001b[0m\u001b[1;33m\u001b[0m\u001b[1;33m\u001b[0m\u001b[0m\n\u001b[0m\u001b[0;32m    218\u001b[0m \u001b[1;33m\u001b[0m\u001b[0m\n\u001b[0;32m    219\u001b[0m     \u001b[1;32mdef\u001b[0m \u001b[0m__getitem__\u001b[0m\u001b[1;33m(\u001b[0m\u001b[0mself\u001b[0m\u001b[1;33m,\u001b[0m \u001b[0mindex\u001b[0m\u001b[1;33m)\u001b[0m\u001b[1;33m:\u001b[0m\u001b[1;33m\u001b[0m\u001b[1;33m\u001b[0m\u001b[0m\n",
      "\u001b[1;31mAttributeError\u001b[0m: addcolumn"
     ]
    },
    {
     "data": {
      "image/png": "[encoded data removed]",
      "text/plain": [
       "<Figure size 432x288 with 1 Axes>"
      ]
     },
     "metadata": {
      "needs_background": "light"
     },
     "output_type": "display_data"
    }
   ],
   "source": [
    "#import necesssary packages\n",
    "%matplotlib inline\n",
    "import numpy as np\n",
    "import matplotlib.pyplot as plt\n",
    "from prettytable import PrettyTable\n",
    "    \n",
    "PT = PrettyTable()\n",
    "\n",
    "columnName = ['Iteration','$x_-1$','$x_0$','$x_1$','$E_a$%','$f(x_1)$']\n",
    "PT.field_names = columnName\n",
    "\n",
    "\n",
    "\n",
    "# define function that you're finding the root of\n",
    "def f(x):\n",
    "    return np.cos(x)\n",
    "# Actual root of function\n",
    "act_root = np.pi/2\n",
    "##initialization\n",
    "#2 initial guesses\n",
    "guess1 = 2.5\n",
    "guess2 = 2.0\n",
    "x = np.array([guess1,guess2]) # [previous,current]\n",
    "#max number of iterations\n",
    "iteration = 32\n",
    "#tolerance\n",
    "tolerance = 10 ** -10\n",
    "#Array to hold solutions (initialize with zeros)\n",
    "solution = np.zeros(iteration)\n",
    "\n",
    "# first two entries of the array consists of the two initial guesses\n",
    "solution[0] = x[0]\n",
    "solution[1] = x[1]\n",
    "#Arrays to hold approx and actual errors (initialize with zeros)\n",
    "approx_err = np.zeros(iteration)\n",
    "actual_err = np.zeros(iteration)\n",
    "\n",
    "##computation\n",
    "# Iterative estimates: two estimates are complete, iterate up to maximum # of iterations\n",
    "\n",
    "temp = 0\n",
    "est_root_index = 0\n",
    "\n",
    "approx_err[0] = 0\n",
    "approx_err[1] = solution[1] - solution[0]\n",
    "\n",
    "for i in range(2,iteration):\n",
    "    \n",
    "    table_stuff = np.zeros(6)\n",
    "    \n",
    "    if(i < 2):\n",
    "        actual_err[i] = solution[i] - act_root\n",
    "        #actual_err =\n",
    "    else:\n",
    "        #Compute approximate derivative from secant formula\n",
    "        # Obtain next root guess \n",
    "        table_stuff[0] = i\n",
    "        table_stuff[1] = x[0]\n",
    "        table_stuff[2] = x[1]\n",
    "        \n",
    "        temp = x[1]\n",
    "\n",
    "        x[1] = x[1] - (f(x[1])*(x[1]-x[0]))/(f(x[1]) - f(x[0]))\n",
    "        solution[i] = x[1]\n",
    "\n",
    "        x[0] = temp\n",
    "\n",
    "        # Obtain approximate and actual errors\n",
    "        actual_err[i] = np.abs(solution[i] - act_root)\n",
    "        approx_err[i] = np.abs(solution[i] - solution[i-1])\n",
    "     \n",
    "    \n",
    "        \n",
    "    table_stuff[3] = x[1]\n",
    "    \n",
    "    table_stuff[4] = 100*abs(approx_err[i]/solution[i])\n",
    "    \n",
    "    table_stuff[5] = 0\n",
    "        \n",
    "    est_root_index = i\n",
    "    # break from loop if tolerance (based on approx error) is reached\n",
    "    if(tolerance > approx_err[i]):\n",
    "        break\n",
    "        \n",
    "    PT.add_row(table_stuff)\n",
    "    \n",
    "    \n",
    "#print(solution)\n",
    "#print(approx_err)\n",
    "print(est_root_index)\n",
    "##output final root estimate\n",
    "print('Est. Root: {}'.format(solution[est_root_index]))\n",
    "\n",
    "# Plot the logarithm of the actual and approximate errors\n",
    "plt.plot(range(iteration),np.log(approx_err),label ='approx_err')\n",
    "plt.plot(range(iteration),np.log(actual_err),label=\"actual_err\")\n",
    "# Add labels and titles to the plots\n",
    "plt.xlabel('Iterations')\n",
    "plt.legend()\n",
    "\n",
    "\n",
    "\n",
    "\n",
    "\n",
    "print(PT)\n",
    "\n",
    "\n",
    "\n",
    "\n",
    "\n",
    "\n",
    "\n",
    "\n",
    "\n",
    "\n",
    "\n",
    "\n",
    "\n",
    "\n",
    "\n",
    "\n",
    "\n",
    "PT.addcolumn()"
   ]
  },
  {
   "cell_type": "markdown",
   "metadata": {},
   "source": [
    "False position\n",
    "put in feature so that stops when denom gets too small"
   ]
  }
 ],
 "metadata": {
  "kernelspec": {
   "display_name": "Python 3",
   "language": "python",
   "name": "python3"
  },
  "language_info": {
   "codemirror_mode": {
    "name": "ipython",
    "version": 3
   },
   "file_extension": ".py",
   "mimetype": "text/x-python",
   "name": "python",
   "nbconvert_exporter": "python",
   "pygments_lexer": "ipython3",
   "version": "3.7.4"
  }
 },
 "nbformat": 4,
 "nbformat_minor": 2
}
