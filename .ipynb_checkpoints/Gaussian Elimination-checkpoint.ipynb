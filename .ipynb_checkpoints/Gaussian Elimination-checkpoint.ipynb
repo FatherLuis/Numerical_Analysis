{
 "cells": [
  {
   "cell_type": "code",
   "execution_count": 56,
   "metadata": {},
   "outputs": [
    {
     "name": "stdout",
     "output_type": "stream",
     "text": [
      "(Matrix([\n",
      "[1, 0, 0, 1.08571428571429],\n",
      "[0, 1, 0, 19.6904761904762],\n",
      "[0, 0, 1, 0.29047619047619]]), (0, 1, 2))\n"
     ]
    }
   ],
   "source": [
    "import sympy as sy\n",
    "import numpy as np\n",
    "\n",
    "\n",
    "## INITIALIZATION ########################\n",
    "n_a = 3\n",
    "n_x = 3\n",
    "xVals = [5.0,8.0,12.0]\n",
    "yVals = [106.8,177.2,279.2]\n",
    "\n",
    "### Calculation #########################\n",
    "step1 = np.array([[x]*n_a for x in xVals])\n",
    "\n",
    "m = np.zeros((n_x,n_a+1))\n",
    "\n",
    "for ii in range(n_a):\n",
    "    m[:,ii] = step1[:,ii]**ii\n",
    "    m[ii,n_a] = yVals[ii]\n",
    "\n",
    "matrix = sy.Matrix(m)\n",
    "\n",
    "### Results ########################\n",
    "print(matrix.rref())\n"
   ]
  },
  {
   "cell_type": "code",
   "execution_count": 67,
   "metadata": {},
   "outputs": [
    {
     "name": "stdout",
     "output_type": "stream",
     "text": [
      "(Matrix([\n",
      "[1, 0, 0, 0,  3],\n",
      "[0, 1, 0, 0,  1],\n",
      "[0, 0, 1, 0, -2],\n",
      "[0, 0, 0, 1,  1]]), (0, 1, 2, 3))\n"
     ]
    }
   ],
   "source": [
    "import sympy as sy\n",
    "\n",
    "# Add as many rows as needed\n",
    "row1 = [6,-2,2,4,16]\n",
    "row2 = [12,-8,6,10,26]\n",
    "row3 = [3,-13,9,3,-19]\n",
    "row4 = [-6,4,1,-18,-34]\n",
    "# .\n",
    "# .\n",
    "# .\n",
    "\n",
    "# Add extra rows to the list of rows\n",
    "matrix = sy.Matrix([row1,row2,row3,row4]) # row1, row2, row3, ...\n",
    "\n",
    "# print rref\n",
    "print(matrix.rref())"
   ]
  },
  {
   "cell_type": "code",
   "execution_count": null,
   "metadata": {},
   "outputs": [],
   "source": []
  }
 ],
 "metadata": {
  "kernelspec": {
   "display_name": "Python 3",
   "language": "python",
   "name": "python3"
  },
  "language_info": {
   "codemirror_mode": {
    "name": "ipython",
    "version": 3
   },
   "file_extension": ".py",
   "mimetype": "text/x-python",
   "name": "python",
   "nbconvert_exporter": "python",
   "pygments_lexer": "ipython3",
   "version": "3.7.3"
  }
 },
 "nbformat": 4,
 "nbformat_minor": 2
}
