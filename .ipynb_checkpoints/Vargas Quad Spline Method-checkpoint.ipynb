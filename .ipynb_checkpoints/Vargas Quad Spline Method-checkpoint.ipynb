{
 "cells": [
  {
   "cell_type": "markdown",
   "metadata": {},
   "source": [
    "## Quadratric Spline Code"
   ]
  },
  {
   "cell_type": "code",
   "execution_count": 6,
   "metadata": {
    "scrolled": false
   },
   "outputs": [
    {
     "data": {
      "image/png": "[encoded data removed]",
      "text/plain": [
       "<Figure size 432x288 with 1 Axes>"
      ]
     },
     "metadata": {
      "needs_background": "light"
     },
     "output_type": "display_data"
    },
    {
     "name": "stdout",
     "output_type": "stream",
     "text": [
      "Est. Integral for Function from zero to two: 0.160464675270323\n"
     ]
    }
   ],
   "source": [
    "%matplotlib inline\n",
    "import numpy as np\n",
    "import matplotlib.pyplot as plt\n",
    "\n",
    "\n",
    "def f(x):\n",
    "    return np.exp(-x)*np.cos(10*x**2)\n",
    "\n",
    "def quadf(a,b,c,x):\n",
    "    return a*x**2 + b*x + c\n",
    "\n",
    "\n",
    "### INITIALIZATION ###############\n",
    "\n",
    "# NUMBER OF ENTRIES IN X_VEC (0,n)\n",
    "n = 32 # N>=3\n",
    "\n",
    "# CREATE AN ARRAY OF X VALUES\n",
    "xVec = np.sqrt(np.arange(0,n+1)/8)\n",
    "#xVec = np.array([0,10,15,20,22.5,30])\n",
    "\n",
    "# CREATE AN ARRAY OF Y VALUES\n",
    "fVec = f(xVec)\n",
    "#fVec = np.array([0,227.04,362.78,517.35,602.97,901.67])\n",
    "\n",
    "\n",
    "# CREATE AN ARRAY AS A 3N x 3N MATRIX OF ZEROS\n",
    "Amx = np.zeros((3*n,3*n))\n",
    "\n",
    "# CREATE THE VECTOR OF CONSTANTS AS A 3N x 1 COLUMN VECTOR OF ZEROS\n",
    "bVec = np.zeros((3*n,1))\n",
    "\n",
    "################################\n",
    "### CONTRUCTION OF MATRIX ######\n",
    "################################\n",
    "\n",
    "# FILL ROWS 0,2,4,...,2N\n",
    "for ii in range(n):\n",
    "    row = 2*ii\n",
    "    col = 3*ii\n",
    "    \n",
    "    Amx[row,col:col+3] = xVec[ii]**2, xVec[ii], 1\n",
    "    bVec[row] = fVec[ii]\n",
    "\n",
    "# FILL ROWS 1,3,5,...,2N-1\n",
    "for ii in range(n):\n",
    "    row = 2*ii +1\n",
    "    col = 3*ii\n",
    "    \n",
    "    Amx[row,col:(col+3)] = xVec[ii+1]**2, xVec[ii+1], 1\n",
    "    bVec[row] = fVec[ii+1]\n",
    "\n",
    "# FILL ROWS 2N,2N+1,...,3N-1\n",
    "for ii in range(n-1):\n",
    "    row = 2*n + ii\n",
    "    col = 3*ii\n",
    "    col2 = col + 3\n",
    "    \n",
    "    Amx[row,col:(col+2)] = 2*xVec[ii+1], 1\n",
    "    Amx[row,col2:(col2+2)] = -2*xVec[ii+1], -1\n",
    "    \n",
    "\n",
    "# FILL ROW 3N\n",
    "Amx[-1,0] = 1\n",
    "\n",
    "# SOLUTIONS\n",
    "coeff = np.linalg.solve(Amx,bVec)\n",
    "\n",
    "################################\n",
    "### VISUALIZATION ##############\n",
    "################################\n",
    "\n",
    "for jj in range(n):\n",
    "    \n",
    "    index = 3*jj\n",
    "    \n",
    "    # CREATE AN ARRAY OF EVENLY SPACED VALUES FROM 'xi' to 'xi+1'\n",
    "    x_values = np.linspace(xVec[jj],xVec[jj+1],100) \n",
    "\n",
    "    if(jj==0):\n",
    "        y_values = coeff[1]*x_values + coeff[2]\n",
    "        plt.plot(x_values,y_values, 'b')\n",
    "    else:   \n",
    "        \n",
    "        y_values = quadf(*coeff[index:index+3],x_values)\n",
    "        plt.plot(x_values,y_values,'b')\n",
    "\n",
    "## Labels ##\n",
    "\n",
    "plt.xlabel('x')\n",
    "plt.ylabel('y')\n",
    "plt.title('Spline Method for function: \\n $e^{-x}*cos(10x^2)$')\n",
    "\n",
    "#plt.savefig('Spline')\n",
    "plt.show()\n",
    "\n",
    "################################\n",
    "### AREA UNDER THE CURVE #######\n",
    "################################\n",
    "\n",
    "summa = 0\n",
    "\n",
    "frac = np.array([1/3,1/2,1])\n",
    "exp = np.array([3,2,1])\n",
    "\n",
    "for kk in range(n):\n",
    "    index=3*kk\n",
    "    \n",
    "    if(kk == 0):\n",
    "        # ['x(i+1)'^2 - 'x(i)'^2   , 'x(i+1)' ^2 - 'x(i)'^2]\n",
    "        x_values = np.array([xVec[kk+1]]*2)**exp[1:] - np.array([xVec[kk]]*2)**exp[1:]\n",
    "        \n",
    "        # INTEGRAL OF A LINEAR EQUATION EVALUATED FROM 'x0' to 'x1' \n",
    "        summa+= np.sum(frac[1:] * x_values * coeff[index+1:index+3].flatten())   \n",
    "        \n",
    "    else:\n",
    "        x_values = np.array([xVec[kk+1]]*3)**exp - np.array([xVec[kk]]*3)**exp\n",
    "        \n",
    "        # INTEGRAL OF A QUADRATIC EQUATION EVALUATED FROM 'xi' to 'xi+1' \n",
    "        summa+= np.sum(frac * x_values * coeff[index:index+3].flatten())  \n",
    "\n",
    "print(\"Est. Integral for Function from zero to two:\",summa)"
   ]
  },
  {
   "cell_type": "code",
   "execution_count": null,
   "metadata": {},
   "outputs": [],
   "source": []
  }
 ],
 "metadata": {
  "kernelspec": {
   "display_name": "Python 3",
   "language": "python",
   "name": "python3"
  },
  "language_info": {
   "codemirror_mode": {
    "name": "ipython",
    "version": 3
   },
   "file_extension": ".py",
   "mimetype": "text/x-python",
   "name": "python",
   "nbconvert_exporter": "python",
   "pygments_lexer": "ipython3",
   "version": "3.7.3"
  }
 },
 "nbformat": 4,
 "nbformat_minor": 2
}
