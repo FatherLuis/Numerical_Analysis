{
 "cells": [
  {
   "cell_type": "markdown",
   "metadata": {},
   "source": [
    "### Bijection Method"
   ]
  },
  {
   "cell_type": "code",
   "execution_count": 15,
   "metadata": {},
   "outputs": [
    {
     "name": "stdout",
     "output_type": "stream",
     "text": [
      "\n",
      "iter:1 \n",
      "r2:1.5\n",
      "33.33333333333333\n",
      "\n",
      "iter:2 \n",
      "r2:1.75\n",
      "14.285714285714285\n",
      "\n",
      "iter:3 \n",
      "r2:1.875\n",
      "6.666666666666667\n",
      "\n",
      "iter:4 \n",
      "r2:1.8125\n",
      "3.4482758620689653\n",
      "\n",
      "iter:5 \n",
      "r2:1.78125\n",
      "1.7543859649122806\n",
      "\n",
      "iter:6 \n",
      "r2:1.796875\n",
      "0.8695652173913043\n"
     ]
    }
   ],
   "source": [
    "import numpy as np\n",
    "\n",
    "\n",
    "def f(x):\n",
    "    #return x**2 - 7\n",
    "    #return x**3 - 0.165*x**2 + 3.993*10**-4\n",
    "    return x*np.exp(-x) -0.3\n",
    "\n",
    "def abs_rel_err(newVal,oldVal):\n",
    "    return np.abs((newVal-oldVal)/newVal)*100\n",
    "\n",
    "def est_root(x1,x2):\n",
    "    return (x1+x2)/2\n",
    "\n",
    "\n",
    "x_lower = 1\n",
    "x_upper = 3\n",
    "yVal = 0.0\n",
    "\n",
    "#m = \n",
    "tolerance = 1 #0.5 *10**(2-m) # 0.5 x 10^(2-m)%, where m is the significant figs\n",
    "err = 1\n",
    "\n",
    "count = 0\n",
    "while(not(tolerance > err)):\n",
    "    \n",
    "    x1_est_root = est_root(x_lower,x_upper)\n",
    "\n",
    "    statement = f(x_lower)*f(x1_est_root)\n",
    "\n",
    "    if(statement < yVal):\n",
    "        x_upper = x1_est_root\n",
    "\n",
    "    elif(statement > yVal):\n",
    "        x_lower = x1_est_root\n",
    "\n",
    "    elif(statement == yVal):\n",
    "        print('Root Found')\n",
    "\n",
    "    else:\n",
    "        print('Something went wrong')\n",
    "    \n",
    "    \n",
    "    # Next iteration starts\n",
    "    count+=1\n",
    "    x2_est_root = est_root(x_lower,x_upper)\n",
    "    err = abs_rel_err(x2_est_root,x1_est_root)\n",
    "\n",
    "    print(\"\\niter:{} \\nr2:{}\".format(count,x2_est_root))\n",
    "    print(err)"
   ]
  },
  {
   "cell_type": "markdown",
   "metadata": {},
   "source": [
    "### Newton-Raphson Method"
   ]
  },
  {
   "cell_type": "code",
   "execution_count": 30,
   "metadata": {},
   "outputs": [
    {
     "name": "stdout",
     "output_type": "stream",
     "text": [
      "\n",
      "Iter:1 \n",
      "x:1.75 \n",
      "Error:14.285714285714285\n",
      "\n",
      "Iter:2 \n",
      "x:1.6428571428571428 \n",
      "Error:6.521739130434787\n",
      "\n",
      "Iter:3 \n",
      "x:1.6192068800764448 \n",
      "Error:1.4606078489230159\n",
      "\n",
      "Iter:4 \n",
      "x:1.6180368184751346 \n",
      "Error:0.07231365738715725\n",
      "\n",
      "Iter:5 \n",
      "x:1.6180339887664317 \n",
      "Error:0.00017488561566429104\n",
      "\n",
      "Iter:6 \n",
      "x:1.6180339887498945 \n",
      "Error:1.022056159263894e-09\n",
      "\n",
      "Iter:7 \n",
      "x:1.6180339887498951 \n",
      "Error:4.1169333858663486e-14\n",
      "\n",
      "Iter:8 \n",
      "x:1.6180339887498951 \n",
      "Error:0.0\n",
      "\n",
      "Iter:9 \n",
      "x:1.6180339887498951 \n",
      "Error:0.0\n",
      "\n",
      "Iter:10 \n",
      "x:1.6180339887498951 \n",
      "Error:0.0\n"
     ]
    }
   ],
   "source": [
    "import numpy as np\n",
    "\n",
    "def f(x):\n",
    "    #return x**3 - 0.165*x**2 + 3.993*10**-4\n",
    "    #return x**4 - 3*x**3 - 15*x**2 +19*x +30\n",
    "    return x**3 - 2*x**2 +1\n",
    "\n",
    "def df(x):\n",
    "    #return 3*x**2 - 0.33*x\n",
    "    #return 4*x**3 - 9*x**2 - 30*x + 19\n",
    "    return 3*x**2 - 4*x\n",
    "\n",
    "def new_x_val(x):\n",
    "    return x_prev - (f(x)/df(x))\n",
    "\n",
    "def abs_rel_err(newVal,oldVal):\n",
    "    return np.abs((newVal-oldVal)/newVal)*100\n",
    "\n",
    "initial = 2\n",
    "n = 10 #iterations\n",
    "\n",
    "x_prev = initial\n",
    "\n",
    "for i in range(1,n+1):\n",
    "    newValRoot = new_x_val(x_prev)\n",
    "\n",
    "    absErr = abs_rel_err(newValRoot,x_prev)\n",
    "    \n",
    "    print('\\nIter:{} \\nx:{} \\nError:{}'.format(i,newValRoot,absErr))\n",
    "    \n",
    "    x_prev = newValRoot"
   ]
  },
  {
   "cell_type": "markdown",
   "metadata": {},
   "source": [
    "### Secant Method"
   ]
  },
  {
   "cell_type": "code",
   "execution_count": 36,
   "metadata": {},
   "outputs": [
    {
     "name": "stdout",
     "output_type": "stream",
     "text": [
      "\n",
      "Iter:1 \n",
      "x:0.0346143790849673 \n",
      "Error:42.22054380664649\n"
     ]
    },
    {
     "ename": "ZeroDivisionError",
     "evalue": "float division by zero",
     "output_type": "error",
     "traceback": [
      "\u001b[1;31m---------------------------------------------------------------------------\u001b[0m",
      "\u001b[1;31mZeroDivisionError\u001b[0m                         Traceback (most recent call last)",
      "\u001b[1;32m<ipython-input-36-cc933c72884c>\u001b[0m in \u001b[0;36m<module>\u001b[1;34m\u001b[0m\n\u001b[0;32m     17\u001b[0m \u001b[1;33m\u001b[0m\u001b[0m\n\u001b[0;32m     18\u001b[0m \u001b[1;32mfor\u001b[0m \u001b[0mi\u001b[0m \u001b[1;32min\u001b[0m \u001b[0mrange\u001b[0m\u001b[1;33m(\u001b[0m\u001b[1;36m1\u001b[0m\u001b[1;33m,\u001b[0m\u001b[0mn\u001b[0m\u001b[1;33m+\u001b[0m\u001b[1;36m1\u001b[0m\u001b[1;33m)\u001b[0m\u001b[1;33m:\u001b[0m\u001b[1;33m\u001b[0m\u001b[1;33m\u001b[0m\u001b[0m\n\u001b[1;32m---> 19\u001b[1;33m     \u001b[0mvec\u001b[0m\u001b[1;33m[\u001b[0m\u001b[1;36m1\u001b[0m\u001b[1;33m]\u001b[0m \u001b[1;33m=\u001b[0m \u001b[0mnew_x_val\u001b[0m\u001b[1;33m(\u001b[0m\u001b[1;33m*\u001b[0m\u001b[0mvec\u001b[0m\u001b[1;33m)\u001b[0m\u001b[1;33m\u001b[0m\u001b[1;33m\u001b[0m\u001b[0m\n\u001b[0m\u001b[0;32m     20\u001b[0m \u001b[1;33m\u001b[0m\u001b[0m\n\u001b[0;32m     21\u001b[0m     \u001b[0mabsErr\u001b[0m \u001b[1;33m=\u001b[0m \u001b[0mabs_rel_err\u001b[0m\u001b[1;33m(\u001b[0m\u001b[1;33m*\u001b[0m\u001b[0mvec\u001b[0m\u001b[1;33m)\u001b[0m\u001b[1;33m\u001b[0m\u001b[1;33m\u001b[0m\u001b[0m\n",
      "\u001b[1;32m<ipython-input-36-cc933c72884c>\u001b[0m in \u001b[0;36mnew_x_val\u001b[1;34m(x0, x1)\u001b[0m\n\u001b[0;32m      6\u001b[0m \u001b[1;33m\u001b[0m\u001b[0m\n\u001b[0;32m      7\u001b[0m \u001b[1;32mdef\u001b[0m \u001b[0mnew_x_val\u001b[0m\u001b[1;33m(\u001b[0m\u001b[0mx0\u001b[0m\u001b[1;33m,\u001b[0m\u001b[0mx1\u001b[0m\u001b[1;33m)\u001b[0m\u001b[1;33m:\u001b[0m\u001b[1;33m\u001b[0m\u001b[1;33m\u001b[0m\u001b[0m\n\u001b[1;32m----> 8\u001b[1;33m     \u001b[1;32mreturn\u001b[0m \u001b[0mx0\u001b[0m \u001b[1;33m-\u001b[0m \u001b[1;33m(\u001b[0m\u001b[0mf\u001b[0m\u001b[1;33m(\u001b[0m\u001b[0mx1\u001b[0m\u001b[1;33m)\u001b[0m\u001b[1;33m*\u001b[0m\u001b[1;33m(\u001b[0m\u001b[0mx1\u001b[0m\u001b[1;33m-\u001b[0m\u001b[0mx0\u001b[0m\u001b[1;33m)\u001b[0m\u001b[1;33m)\u001b[0m\u001b[1;33m/\u001b[0m\u001b[1;33m(\u001b[0m\u001b[0mf\u001b[0m\u001b[1;33m(\u001b[0m\u001b[0mx1\u001b[0m\u001b[1;33m)\u001b[0m\u001b[1;33m-\u001b[0m\u001b[0mf\u001b[0m\u001b[1;33m(\u001b[0m\u001b[0mx0\u001b[0m\u001b[1;33m)\u001b[0m\u001b[1;33m)\u001b[0m\u001b[1;33m\u001b[0m\u001b[1;33m\u001b[0m\u001b[0m\n\u001b[0m\u001b[0;32m      9\u001b[0m \u001b[1;33m\u001b[0m\u001b[0m\n\u001b[0;32m     10\u001b[0m \u001b[1;32mdef\u001b[0m \u001b[0mabs_rel_err\u001b[0m\u001b[1;33m(\u001b[0m\u001b[0moldVal\u001b[0m\u001b[1;33m,\u001b[0m\u001b[0mnewVal\u001b[0m\u001b[1;33m)\u001b[0m\u001b[1;33m:\u001b[0m\u001b[1;33m\u001b[0m\u001b[1;33m\u001b[0m\u001b[0m\n",
      "\u001b[1;31mZeroDivisionError\u001b[0m: float division by zero"
     ]
    }
   ],
   "source": [
    "import numpy as np\n",
    "\n",
    "def f(x):\n",
    "    return x**3 - 0.165*x**2 + 3.993*10**-4\n",
    "\n",
    "\n",
    "def new_x_val(x0,x1):\n",
    "    return x0 - (f(x1)*(x1-x0))/(f(x1) - f(x0))\n",
    "\n",
    "def abs_rel_err(oldVal,newVal):\n",
    "    return np.abs((newVal-oldVal)/newVal)*100\n",
    "\n",
    "initial = [0.02,0.05]\n",
    "n = 10 #iterations\n",
    "\n",
    "vec = initial\n",
    "\n",
    "for i in range(1,n+1):\n",
    "# Figure something out"
   ]
  },
  {
   "cell_type": "code",
   "execution_count": null,
   "metadata": {},
   "outputs": [],
   "source": []
  }
 ],
 "metadata": {
  "kernelspec": {
   "display_name": "Python 3",
   "language": "python",
   "name": "python3"
  },
  "language_info": {
   "codemirror_mode": {
    "name": "ipython",
    "version": 3
   },
   "file_extension": ".py",
   "mimetype": "text/x-python",
   "name": "python",
   "nbconvert_exporter": "python",
   "pygments_lexer": "ipython3",
   "version": "3.7.3"
  }
 },
 "nbformat": 4,
 "nbformat_minor": 2
}
