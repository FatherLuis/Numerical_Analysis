{
 "cells": [
  {
   "cell_type": "markdown",
   "metadata": {},
   "source": [
    "### Bijection Method"
   ]
  },
  {
   "cell_type": "code",
   "execution_count": 34,
   "metadata": {},
   "outputs": [
    {
     "name": "stdout",
     "output_type": "stream",
     "text": [
      "r1:0.062304687500000004 \n",
      "r2:0.06251953125000001\n",
      "0.34364261168385807\n"
     ]
    }
   ],
   "source": [
    "import numpy as np\n",
    "\n",
    "\n",
    "def f(x):\n",
    "    #return x**2 - 7\n",
    "    return x**3 - 0.165*x**2 + 3.993*10**-4\n",
    "\n",
    "def abs_rel_err(newVal,oldVal):\n",
    "    return np.abs((newVal-oldVal)/newVal)*100\n",
    "\n",
    "def est_root(x1,x2):\n",
    "    return (x1+x2)/2\n",
    "\n",
    "\n",
    "x_lower = 0.0#2\n",
    "x_upper = 0.11#3\n",
    "m = 2\n",
    "tolerance = 0.5 *10**(2-m) # 0.5 x 10^(2-m)%, where m is the significant figs\n",
    "err = 1\n",
    "\n",
    "\n",
    "while(not(tolerance > err)):\n",
    "    x1_est_root = est_root(x_lower,x_upper)\n",
    "\n",
    "    statement = f(x_lower)*f(x1_est_root)\n",
    "\n",
    "    if(statement < 0.0):\n",
    "        x_upper = x1_est_root\n",
    "\n",
    "    elif(statement > 0.0):\n",
    "        x_lower = x1_est_root\n",
    "\n",
    "    elif(statement == 0.0):\n",
    "        print('Root Found')\n",
    "\n",
    "    else:\n",
    "        print('Something went wrong')\n",
    "    \n",
    "    # Next iteration starts\n",
    "    x2_est_root = est_root(x_lower,x_upper)\n",
    "    err = abs_rel_err(x2_est_root,x1_est_root)\n",
    "\n",
    "print(\"r1:{} \\nr2:{}\".format(x1_est_root,x2_est_root))\n",
    "print(err)"
   ]
  },
  {
   "cell_type": "code",
   "execution_count": null,
   "metadata": {},
   "outputs": [],
   "source": []
  }
 ],
 "metadata": {
  "kernelspec": {
   "display_name": "Python 3",
   "language": "python",
   "name": "python3"
  },
  "language_info": {
   "codemirror_mode": {
    "name": "ipython",
    "version": 3
   },
   "file_extension": ".py",
   "mimetype": "text/x-python",
   "name": "python",
   "nbconvert_exporter": "python",
   "pygments_lexer": "ipython3",
   "version": "3.7.3"
  }
 },
 "nbformat": 4,
 "nbformat_minor": 2
}
