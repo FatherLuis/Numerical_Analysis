{
 "cells": [
  {
   "cell_type": "markdown",
   "metadata": {},
   "source": [
    "## Integration"
   ]
  },
  {
   "cell_type": "markdown",
   "metadata": {},
   "source": [
    "### Trapezoidal Rule"
   ]
  },
  {
   "cell_type": "code",
   "execution_count": 20,
   "metadata": {},
   "outputs": [
    {
     "name": "stdout",
     "output_type": "stream",
     "text": [
      "321.61661791908466\n",
      "Approx Area with 1 Trapezoids: 306.7668\n",
      "True Error: 14.849853757254039\n",
      "Et:  23.00198404234196 \n",
      "\n",
      "Approx Area with 2 Trapezoids: 318.5466\n",
      "True Error: 3.0699693453535133\n",
      "Et:  5.75049601058549 \n",
      "\n",
      "Approx Area with 4 Trapezoids: 320.8762\n",
      "True Error: 0.7404542280962687\n",
      "Et:  1.4376240026463725 \n",
      "\n",
      "Approx Area with 8 Trapezoids: 321.4330\n",
      "True Error: 0.1835751093551039\n",
      "Et:  0.3594060006615931 \n",
      "\n"
     ]
    }
   ],
   "source": [
    "#SOURCE: https://www.math.ubc.ca/~pwalls/math-python/integration/trapezoid-rule/\n",
    "import numpy as np\n",
    "\n",
    "def f(x):\n",
    "    #return 1000*np.sin(np.pi*x/100)\n",
    "    return 30 + x*np.exp((-x**2)/50)\n",
    "\n",
    "def integral_F(a,b):\n",
    "    #return -1000*(100/np.pi)*(np.cos(np.pi*b/100) - np.cos(np.pi*a/100))\n",
    "    return (30*b - 25*np.exp((-b**2)/50))-(30*a - 25*np.exp((-a**2)/50))\n",
    "\n",
    "def f2(x):\n",
    "    #return -1000 * np.sin(np.pi*x/100) * (np.pi/100)**2 \n",
    "    return np.exp(-(x**2)/50)*(((4*x**3)-300*x)/(2500)) \n",
    "\n",
    "def Et(a,b,n):\n",
    "    \n",
    "    # MAX OF THE 2ND DERIVATIVE OF FUNCTION\n",
    "    #MAX_2_DERIV = np.abs(f2(50))\n",
    "    MAX_2_DERIV = np.abs(f2(3.71))\n",
    "    \n",
    "    return (((b-a)**3)/(12*n**2)) * np.abs(MAX_2_DERIV)\n",
    "    \n",
    "    \n",
    "\n",
    "a = 0\n",
    "b = 10\n",
    "N_A = [1,2,4,8]\n",
    "\n",
    "trueVal = integral_F(a,b)\n",
    "### USED TO FIND THE AREA OF TRAPEZOIDS ########\n",
    "print(trueVal)\n",
    "for N in N_A:\n",
    "    x = np.linspace(a,b,N+1)\n",
    "    y = f(x)\n",
    "    y_right = y[1:] # Right endpoints\n",
    "    y_left = y[:-1] # Left endpoints\n",
    "    dx = (b - a)/N\n",
    "    approx = (dx/2) * np.sum(y_right + y_left)\n",
    "    \n",
    "    print(\"Approx Area with {} Trapezoids: {:0.4f}\".format(N,approx))\n",
    "\n",
    "    #####################################\n",
    "\n",
    "    trueError = trueVal - approx\n",
    "    print('True Error:',trueError)\n",
    "    \n",
    "    print('Et: ',Et(a,b,N),'\\n')"
   ]
  },
  {
   "cell_type": "markdown",
   "metadata": {},
   "source": [
    "\n"
   ]
  },
  {
   "cell_type": "markdown",
   "metadata": {},
   "source": [
    "### Simpson's 1/3 Rule of Integration"
   ]
  },
  {
   "cell_type": "code",
   "execution_count": 43,
   "metadata": {},
   "outputs": [
    {
     "name": "stdout",
     "output_type": "stream",
     "text": [
      "N:2\n",
      "   Area:322.4733\n",
      "   True:-0.8567\n",
      "N:4\n",
      "   Area:321.6527\n",
      "   True:-0.0361\n"
     ]
    }
   ],
   "source": [
    "# SOURCE: https://www.math.ubc.ca/~pwalls/math-python/integration/simpsons-rule/\n",
    "\n",
    "import numpy as np\n",
    "\n",
    "def f(x):\n",
    "    #return 1000*np.sin(np.pi*x/100)\n",
    "    return 30 + x*np.exp((-x**2)/50)\n",
    "\n",
    "def integral_F(a,b):\n",
    "    #return -1000*(100/np.pi)*(np.cos(np.pi*b/100) - np.cos(np.pi*a/100))\n",
    "    return (30*b - 25*np.exp((-b**2)/50))-(30*a - 25*np.exp((-a**2)/50))\n",
    "\n",
    "\n",
    "\n",
    "def simps(f,a,b,N=2):\n",
    "    '''Approximate the integral of f(x) from a to b by Simpson's rule.\n",
    "\n",
    "    Simpson's rule approximates the integral \\int_a^b f(x) dx by the sum:\n",
    "    (dx/3) \\sum_{k=1}^{N/2} (f(x_{2i-2} + 4f(x_{2i-1}) + f(x_{2i}))\n",
    "    where x_i = a + i*dx and dx = (b - a)/N.\n",
    "\n",
    "    Parameters\n",
    "    ----------\n",
    "    f : function\n",
    "        Vectorized function of a single variable\n",
    "    a , b : numbers\n",
    "        Interval of integration [a,b]\n",
    "    N : (even) integer\n",
    "        Number of subintervals of [a,b]\n",
    "\n",
    "    Returns\n",
    "    -------\n",
    "    float\n",
    "        Approximation of the integral of f(x) from a to b using\n",
    "        Simpson's rule with N subintervals of equal length.\n",
    "\n",
    "    Examples\n",
    "    --------\n",
    "    >>> simps(lambda x : 3*x**2,0,1,10)\n",
    "    1.0\n",
    "    '''\n",
    "    if N % 2 == 1:\n",
    "        raise ValueError(\"N must be an even integer.\")\n",
    "    dx = (b-a)/N\n",
    "    x = np.linspace(a,b,N+1)\n",
    "    y = f(x)\n",
    "    S = dx/3 * np.sum(y[0:-1:2] + 4*y[1::2] + y[2::2])\n",
    "    return S\n",
    "\n",
    "########################################\n",
    "\n",
    "a = 0\n",
    "b = 10\n",
    "N_A = [2,4]\n",
    "\n",
    "trueVal = integral_F(a,b)\n",
    "\n",
    "for N in N_A:\n",
    "    \n",
    "    approx = simps(f,a,b,N)\n",
    "    trueError = trueVal - approx\n",
    "    \n",
    "    print('N:{}'.format(N))\n",
    "    print('   Area:{:0.4f}'.format(approx))\n",
    "    print('   True:{:0.4f}'.format(trueError))"
   ]
  },
  {
   "cell_type": "code",
   "execution_count": null,
   "metadata": {},
   "outputs": [],
   "source": []
  }
 ],
 "metadata": {
  "kernelspec": {
   "display_name": "Python 3",
   "language": "python",
   "name": "python3"
  },
  "language_info": {
   "codemirror_mode": {
    "name": "ipython",
    "version": 3
   },
   "file_extension": ".py",
   "mimetype": "text/x-python",
   "name": "python",
   "nbconvert_exporter": "python",
   "pygments_lexer": "ipython3",
   "version": "3.7.3"
  }
 },
 "nbformat": 4,
 "nbformat_minor": 2
}
